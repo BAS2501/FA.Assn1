{
 "cells": [
  {
   "cell_type": "markdown",
   "id": "7d394945",
   "metadata": {},
   "source": [
    "# Import Numpy as np"
   ]
  },
  {
   "cell_type": "code",
   "execution_count": 2,
   "id": "319cfe75",
   "metadata": {},
   "outputs": [],
   "source": [
    "import numpy as np"
   ]
  },
  {
   "cell_type": "markdown",
   "id": "d0cc3340",
   "metadata": {},
   "source": [
    "create an array of 10 zeros"
   ]
  },
  {
   "cell_type": "code",
   "execution_count": 4,
   "id": "7f74ea44",
   "metadata": {},
   "outputs": [
    {
     "data": {
      "text/plain": [
       "array([0., 0., 0., 0., 0., 0., 0., 0., 0., 0.])"
      ]
     },
     "execution_count": 4,
     "metadata": {},
     "output_type": "execute_result"
    }
   ],
   "source": [
    "arr0 = np.zeros(10)\n",
    "arr0"
   ]
  },
  {
   "cell_type": "markdown",
   "id": "dd5d71c4",
   "metadata": {},
   "source": [
    "create an array of 10 ones"
   ]
  },
  {
   "cell_type": "code",
   "execution_count": 5,
   "id": "c815eab7",
   "metadata": {},
   "outputs": [
    {
     "data": {
      "text/plain": [
       "array([1., 1., 1., 1., 1., 1., 1., 1., 1., 1.])"
      ]
     },
     "execution_count": 5,
     "metadata": {},
     "output_type": "execute_result"
    }
   ],
   "source": [
    "arr1 = np.ones(10)\n",
    "arr1"
   ]
  },
  {
   "cell_type": "markdown",
   "id": "91f4c67a",
   "metadata": {},
   "source": [
    "create an array of 10 fives"
   ]
  },
  {
   "cell_type": "code",
   "execution_count": 7,
   "id": "bb1d6b9b",
   "metadata": {},
   "outputs": [
    {
     "data": {
      "text/plain": [
       "array([5., 5., 5., 5., 5., 5., 5., 5., 5., 5.])"
      ]
     },
     "execution_count": 7,
     "metadata": {},
     "output_type": "execute_result"
    }
   ],
   "source": [
    "arr5 = arr1 * 5\n",
    "arr5"
   ]
  },
  {
   "cell_type": "markdown",
   "id": "f257d238",
   "metadata": {},
   "source": [
    "create an array of integers from 0 to 50 "
   ]
  },
  {
   "cell_type": "code",
   "execution_count": 8,
   "id": "b0043e9a",
   "metadata": {},
   "outputs": [
    {
     "data": {
      "text/plain": [
       "array([10, 11, 12, 13, 14, 15, 16, 17, 18, 19, 20, 21, 22, 23, 24, 25, 26,\n",
       "       27, 28, 29, 30, 31, 32, 33, 34, 35, 36, 37, 38, 39, 40, 41, 42, 43,\n",
       "       44, 45, 46, 47, 48, 49, 50])"
      ]
     },
     "execution_count": 8,
     "metadata": {},
     "output_type": "execute_result"
    }
   ],
   "source": [
    "np.arange(10,51)"
   ]
  },
  {
   "cell_type": "markdown",
   "id": "450981c1",
   "metadata": {},
   "source": [
    "creat an array of even integers from 0 to 50 "
   ]
  },
  {
   "cell_type": "code",
   "execution_count": 9,
   "id": "4a1b027b",
   "metadata": {},
   "outputs": [
    {
     "data": {
      "text/plain": [
       "array([10, 12, 14, 16, 18, 20, 22, 24, 26, 28, 30, 32, 34, 36, 38, 40, 42,\n",
       "       44, 46, 48, 50])"
      ]
     },
     "execution_count": 9,
     "metadata": {},
     "output_type": "execute_result"
    }
   ],
   "source": [
    "np.arange(10,51,2)"
   ]
  },
  {
   "cell_type": "markdown",
   "id": "83df3f48",
   "metadata": {},
   "source": [
    "create a 3x3 matrix with values ranging from 0 to 8 (2 steps)"
   ]
  },
  {
   "cell_type": "code",
   "execution_count": 10,
   "id": "014e51a2",
   "metadata": {},
   "outputs": [],
   "source": [
    "arrq7 = np.arange(0,9)"
   ]
  },
  {
   "cell_type": "code",
   "execution_count": 11,
   "id": "12234c15",
   "metadata": {},
   "outputs": [
    {
     "data": {
      "text/plain": [
       "array([[0, 1, 2],\n",
       "       [3, 4, 5],\n",
       "       [6, 7, 8]])"
      ]
     },
     "execution_count": 11,
     "metadata": {},
     "output_type": "execute_result"
    }
   ],
   "source": [
    "arrq7.reshape(3,3)"
   ]
  },
  {
   "cell_type": "markdown",
   "id": "1d644afe",
   "metadata": {},
   "source": [
    "create a random number between 0 and 1"
   ]
  },
  {
   "cell_type": "code",
   "execution_count": 13,
   "id": "607f0055",
   "metadata": {},
   "outputs": [
    {
     "data": {
      "text/plain": [
       "array([0.87412677])"
      ]
     },
     "execution_count": 13,
     "metadata": {},
     "output_type": "execute_result"
    }
   ],
   "source": [
    "np.random.rand(1)"
   ]
  },
  {
   "cell_type": "markdown",
   "id": "f64a6909",
   "metadata": {},
   "source": [
    "create a 5x5 matrix of numbers ranging from 0 to 25"
   ]
  },
  {
   "cell_type": "code",
   "execution_count": 15,
   "id": "95b77609",
   "metadata": {},
   "outputs": [
    {
     "data": {
      "text/plain": [
       "array([[ 1,  2,  3,  4,  5],\n",
       "       [ 6,  7,  8,  9, 10],\n",
       "       [11, 12, 13, 14, 15],\n",
       "       [16, 17, 18, 19, 20],\n",
       "       [21, 22, 23, 24, 25]])"
      ]
     },
     "execution_count": 15,
     "metadata": {},
     "output_type": "execute_result"
    }
   ],
   "source": [
    "mat = np.arange(1,26).reshape(5,5)\n",
    "mat"
   ]
  },
  {
   "cell_type": "markdown",
   "id": "a6783e18",
   "metadata": {},
   "source": [
    "sum of numbers in the above matrix"
   ]
  },
  {
   "cell_type": "code",
   "execution_count": 17,
   "id": "ab0e3742",
   "metadata": {},
   "outputs": [
    {
     "data": {
      "text/plain": [
       "325"
      ]
     },
     "execution_count": 17,
     "metadata": {},
     "output_type": "execute_result"
    }
   ],
   "source": [
    "np.sum(mat)"
   ]
  },
  {
   "cell_type": "markdown",
   "id": "179c473d",
   "metadata": {},
   "source": [
    "standard deviation of matrix above"
   ]
  },
  {
   "cell_type": "code",
   "execution_count": 18,
   "id": "6164fb8f",
   "metadata": {},
   "outputs": [
    {
     "data": {
      "text/plain": [
       "7.211102550927978"
      ]
     },
     "execution_count": 18,
     "metadata": {},
     "output_type": "execute_result"
    }
   ],
   "source": [
    "np.std(mat)"
   ]
  },
  {
   "cell_type": "markdown",
   "id": "a9bf9039",
   "metadata": {},
   "source": [
    "create matrix to add and multiply to original matrix"
   ]
  },
  {
   "cell_type": "code",
   "execution_count": 21,
   "id": "abfebc76",
   "metadata": {},
   "outputs": [
    {
     "data": {
      "text/plain": [
       "array([[1., 1., 1., 1., 1.],\n",
       "       [1., 1., 1., 1., 1.],\n",
       "       [1., 1., 1., 1., 1.],\n",
       "       [1., 1., 1., 1., 1.],\n",
       "       [1., 1., 1., 1., 1.]])"
      ]
     },
     "execution_count": 21,
     "metadata": {},
     "output_type": "execute_result"
    }
   ],
   "source": [
    "mat1 = np.ones(25).reshape(5,5)\n",
    "mat1"
   ]
  },
  {
   "cell_type": "markdown",
   "id": "f268e567",
   "metadata": {},
   "source": [
    "add the two matricies"
   ]
  },
  {
   "cell_type": "code",
   "execution_count": 22,
   "id": "a45839d5",
   "metadata": {},
   "outputs": [
    {
     "data": {
      "text/plain": [
       "array([[ 2.,  3.,  4.,  5.,  6.],\n",
       "       [ 7.,  8.,  9., 10., 11.],\n",
       "       [12., 13., 14., 15., 16.],\n",
       "       [17., 18., 19., 20., 21.],\n",
       "       [22., 23., 24., 25., 26.]])"
      ]
     },
     "execution_count": 22,
     "metadata": {},
     "output_type": "execute_result"
    }
   ],
   "source": [
    "mat + mat1"
   ]
  },
  {
   "cell_type": "markdown",
   "id": "46f8bcda",
   "metadata": {},
   "source": [
    "Multiply the two matricies"
   ]
  },
  {
   "cell_type": "code",
   "execution_count": 23,
   "id": "0f09a269",
   "metadata": {},
   "outputs": [
    {
     "data": {
      "text/plain": [
       "array([[ 1.,  2.,  3.,  4.,  5.],\n",
       "       [ 6.,  7.,  8.,  9., 10.],\n",
       "       [11., 12., 13., 14., 15.],\n",
       "       [16., 17., 18., 19., 20.],\n",
       "       [21., 22., 23., 24., 25.]])"
      ]
     },
     "execution_count": 23,
     "metadata": {},
     "output_type": "execute_result"
    }
   ],
   "source": [
    "mat * mat1"
   ]
  },
  {
   "cell_type": "markdown",
   "id": "d1efb73b",
   "metadata": {},
   "source": [
    "# DONE"
   ]
  },
  {
   "cell_type": "code",
   "execution_count": null,
   "id": "04a63c79",
   "metadata": {},
   "outputs": [],
   "source": []
  }
 ],
 "metadata": {
  "kernelspec": {
   "display_name": "Python 3 (ipykernel)",
   "language": "python",
   "name": "python3"
  },
  "language_info": {
   "codemirror_mode": {
    "name": "ipython",
    "version": 3
   },
   "file_extension": ".py",
   "mimetype": "text/x-python",
   "name": "python",
   "nbconvert_exporter": "python",
   "pygments_lexer": "ipython3",
   "version": "3.9.7"
  }
 },
 "nbformat": 4,
 "nbformat_minor": 5
}
